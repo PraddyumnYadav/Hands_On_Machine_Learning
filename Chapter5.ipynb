{
 "cells": [
  {
   "cell_type": "markdown",
   "metadata": {},
   "source": [
    "# **Chapter 5 - Support Vector Machines**"
   ]
  },
  {
   "cell_type": "markdown",
   "metadata": {},
   "source": [
    "A *Support Vector Machines (SVM)* is a powerful and versatile Model, capable of performing both *linear, non-linear, classfication, regression and even outlier detection*."
   ]
  }
 ],
 "metadata": {
  "language_info": {
   "name": "python"
  },
  "orig_nbformat": 4
 },
 "nbformat": 4,
 "nbformat_minor": 2
}
