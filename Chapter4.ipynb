{
 "cells": [
  {
   "attachments": {},
   "cell_type": "markdown",
   "metadata": {},
   "source": [
    "# Chapter 4 - Training Models"
   ]
  },
  {
   "attachments": {},
   "cell_type": "markdown",
   "metadata": {},
   "source": [
    "## Signs Used in This `IPythonNotebook`\n",
    "- I have Used **Exit** Heading for Writing a Paragraph or a Text That Does't Fall under any Heading.\n",
    "- I have Used **Bold** Font to Highlight a Name or an Important Text.\n",
    "- I have Used `This` Type of Highlighter for Programming name or a Small Code.\n",
    "   - For Example :- `python`, `numpy`, `ndarray`, `pandas`, `DataFrame`, `loc`, `iloc`\n",
    "- I have used *Italic* Font For Some Important but not so Important Text."
   ]
  },
  {
   "attachments": {},
   "cell_type": "markdown",
   "metadata": {},
   "source": [
    "So Far We Have Treated Our Machine Learning Models Like Black Boxes and Many of You Have Wondered that What We Can Do Without Knowing Even a Little Thing about How Things Work Under-The-Hood However Knowing How Things Work Can Help us in Many Different Ways One of Then is *Fine Tuning* Models. But in This Chapter Finally We are Going to Look at **How Things Work Under the Hood**."
   ]
  },
  {
   "attachments": {},
   "cell_type": "markdown",
   "metadata": {},
   "source": [
    "## What We are going to Learn.\n",
    "- Linear Regression\n",
    " - The Normal Equation\n",
    "  - Computational Complexity\n",
    "- Gradient Descent\n",
    "  - Batch Gradient Descent\n",
    "  - Stochastic Gradient Descent\n",
    "  - Mini-Batch Gradient Descent\n",
    "- Polynomial Regression\n",
    "- Learning in Curves\n",
    "- Regularized Linear Models\n",
    "  - Ridge Regression\n",
    "  - Lasso Regression\n",
    "  - Elastic Net\n",
    "  - Early Stopping\n",
    "- Logistic Regression\n",
    "  - Estimating Probabilities\n",
    "  - Training and Cost Function\n",
    "  - Decision Boundaries\n",
    "  - Softmax Regression"
   ]
  },
  {
   "attachments": {},
   "cell_type": "markdown",
   "metadata": {},
   "source": [
    "# Linear Regression\n",
    "This is the Main Equation in Which **Linear Regression** Model Relies on.\n",
    "$$\n",
    "\\hat{y} = \\theta_0 + \\theta_1 x_1 + \\theta_2 x_2 + \\cdots + \\theta_n x_n\n",
    "$$"
   ]
  },
  {
   "attachments": {},
   "cell_type": "markdown",
   "metadata": {},
   "source": [
    "### Equation 4-1\n",
    "Let's say we have a dataset of housing prices in a certain area, and we want to predict the price of a house based on its size (in square feet) and the number of bedrooms. We can model this problem using linear regression, with the price of the house being the target variable and the size and number of bedrooms being the input features. \n",
    "\n",
    "Using Equation 4-1, we can express the linear regression model as:\n",
    "\n",
    "$$\n",
    "\\hat{y} = \\theta_0 + \\theta_1 x_1 + \\theta_2 x_2,\n",
    "$$\n",
    "\n",
    "where:\n",
    "\n",
    "- $\\hat{y}$ is the predicted price of the house,\n",
    "- $x_1$ is the size of the house (in square feet),\n",
    "- $x_2$ is the number of bedrooms,\n",
    "- $\\theta_0$ is the intercept term (representing the base price of the house),\n",
    "- $\\theta_1$ is the weight of the size feature (representing how much the price of the house increases per square foot),\n",
    "- $\\theta_2$ is the weight of the number of bedrooms feature (representing how much the price of the house increases per additional bedroom).\n",
    "\n",
    "To train the linear regression model, we need a dataset of labeled examples, where each example consists of the input features (size and number of bedrooms) and the corresponding label (price of the house). Let's say we have the following dataset:\n",
    "\n",
    "<div align=\"center\">\n",
    "\n",
    "| Size (sq. ft.) | Bedrooms | Price ($) |\n",
    "| --- | --- | --- |\n",
    "| 1500 | 3 | 220000 |\n",
    "| 2000 | 4 | 300000 |\n",
    "| 1200 | 2 | 180000 |\n",
    "| 1800 | 3 | 240000 |\n",
    "| 1600 | 3 | 210000 |\n",
    "\n",
    "</div>\n",
    "\n",
    "Using this dataset, we can estimate the values of the parameters $\\theta_0$, $\\theta_1$, and $\\theta_2$ that minimize the difference between the predicted prices and the actual prices of the houses in the training data. We can then use these parameters to make predictions for new houses.\n",
    "\n",
    "For example, let's say we want to predict the price of a house that is 1700 square feet and has 3 bedrooms. We can plug these values into Equation 4-1 and use the learned values of $\\theta_0$, $\\theta_1$, and $\\theta_2$ to compute the predicted price as follows:\n",
    "\n",
    "$$\n",
    "\\begin{aligned}\n",
    "\\hat{y} &= \\theta_0 + \\theta_1 x_1 + \\theta_2 x_2 \\\\\n",
    "&= 150000 + 100 \\times 1700 + 50000 \\times 3 \\\\\n",
    "&= 425000\n",
    "\\end{aligned}\n",
    "$$\n",
    "\n",
    "So according to the linear regression model, the predicted price of the house is $425000. Of course, the actual price may differ from the predicted price due to factors not captured by the input features, but the linear regression model provides a useful estimate based on the available information."
   ]
  },
  {
   "attachments": {},
   "cell_type": "markdown",
   "metadata": {},
   "source": [
    "### Exit\n",
    "In *Chapter2* We Saw a Most Common **Performance Measure** which is `RMSE` so Now According to *Equation 4-1* We have to Find $\\theta$ Values Such That We Can Reduce its `RMSE` But it is Simpler to Minimize `MSE`(Mean Squared Error) and We can Compute `MSE` by Using *Equation 4-3* Which is Explained in Next MarkDown."
   ]
  },
  {
   "attachments": {},
   "cell_type": "markdown",
   "metadata": {},
   "source": [
    "### Equation 4-3 \n",
    "It represents the mean squared error (MSE) cost function for linear regression. The MSE measures the average squared difference between the predicted values y_hat and the actual values y in the training dataset.\n",
    "\n",
    "$$\n",
    "\\text{MSE}(\\mathbf{X},h_{\\boldsymbol{\\theta}}) = \\frac{1}{m}\\sum_{i=1}^{m}\\left(\\hat{y}^{(i)} - y^{(i)}\\right)^2\n",
    "$$\n",
    "\n",
    "- $\\text{MSE}(\\mathbf{X},h_{\\boldsymbol{\\theta}})$ is the cost function that we want to minimize. It takes as input the training dataset $\\mathbf{X}$ and the linear regression model $h_{\\boldsymbol{\\theta}}$ with parameter values $\\boldsymbol{\\theta}$.\n",
    "- $m$ is the number of instances in the training dataset.\n",
    "- $y^{(i)}$ is the actual value of the target variable for the $i$-th instance in the training dataset.\n",
    "- $\\hat{y}^{(i)}$ is the predicted value of the target variable for the $i$-th instance in the training dataset, based on the model's current parameter values.\n",
    "- $(\\hat{y}^{(i)} - y^{(i)})$ is the difference between the predicted and actual values for the $i$-th instance.\n",
    "- $(\\hat{y}^{(i)} - y^{(i)})^2$ is the squared difference between the predicted and actual values for the $i$-th instance.\n",
    "- $\\frac{1}{m}$ is a scaling factor that averages the squared differences over all instances in the training dataset.\n",
    "\n",
    "In other words, Equation 4-3 computes the average squared difference between the predicted and actual values for all instances in the training dataset. This cost function is commonly used in linear regression because it is a convex function, meaning that it has a single global minimum that can be found efficiently using gradient descent or other optimization algorithms."
   ]
  },
  {
   "attachments": {},
   "cell_type": "markdown",
   "metadata": {},
   "source": [
    "# The Normal Equation\n",
    "To find Value of $/theta$ That Minimizes Cost Function There is a Direct *closed-form* Solution in other Words This Mathematical Equation Gives the Result Directly.\n",
    "### Equation 4-4 \n",
    "$$\n",
    "\\hat{\\boldsymbol{\\theta}} = (\\mathbf{X}^T \\cdot \\mathbf{X})^{-1} \\cdot \\mathbf{X}^T \\cdot \\mathbf{y}\n",
    "$$\n",
    "\n",
    "It represents the gradient vector of the mean squared error (MSE) cost function for linear regression. The gradient vector is a vector of partial derivatives of the cost function with respect to each of the model parameters $\\theta_0, \\theta_1, \\dots, \\theta_n$.\n",
    "\n",
    "The gradient vector of the MSE cost function is used in optimization algorithms such as gradient descent to update the model parameters at each iteration. The direction of the gradient vector points in the direction of the steepest increase in the cost function, so the negative gradient vector points in the direction of the steepest decrease in the cost function, which is the direction of the fastest improvement in the model's performance.\n",
    "\n",
    "Here is a breakdown of the terms in Equation 4-4:\n",
    "\n",
    "- $\\mathbf{X}$ is the design matrix containing all the training instances with added bias terms.\n",
    "- $\\mathbf{y}$ is the vector of target values for the training set.\n",
    "- $\\mathbf{X}^T$ is the transpose of the design matrix.\n",
    "- $\\mathbf{X}^T \\cdot \\mathbf{X}$ is the dot product of the transpose of the design matrix and the design matrix itself.\n",
    "- $(\\mathbf{X}^T \\cdot \\mathbf{X})^{-1}$ is the inverse of the dot product of the transpose of the design matrix and the design matrix itself.\n",
    "- $\\mathbf{X}^T \\cdot \\mathbf{y}$ is the dot product of the transpose of the design matrix and the vector of target values.\n",
    "- $\\hat{\\boldsymbol{\\theta}}$ is the estimated value of the model parameters $\\boldsymbol{\\theta}$ that minimize the cost function.\n",
    "\n",
    "In other words, Equation 4-4 computes the partial derivatives of the MSE cost function with respect to each of the model parameters. This gradient vector is used to update the model parameters iteratively in order to minimize the cost function and improve the model's performance on the training dataset."
   ]
  },
  {
   "attachments": {},
   "cell_type": "markdown",
   "metadata": {},
   "source": [
    "Now Let's Create a Linear Looking Dataset With Numpy."
   ]
  },
  {
   "cell_type": "code",
   "execution_count": 1,
   "metadata": {},
   "outputs": [],
   "source": [
    "import numpy as np\n",
    "\n",
    "x = 2 * np.random.rand(100, 1)\n",
    "y = 4 + 3 * x + np.random.rand(100, 1)"
   ]
  },
  {
   "cell_type": "code",
   "execution_count": 2,
   "metadata": {},
   "outputs": [
    {
     "data": {
      "image/png": "[encoded data removed]",
      "text/plain": [
       "<Figure size 640x480 with 1 Axes>"
      ]
     },
     "metadata": {},
     "output_type": "display_data"
    }
   ],
   "source": [
    "import matplotlib.pyplot as plt\n",
    "\n",
    "plt.plot(x, y, \"b.\")\n",
    "plt.xlabel(\"$x_1$\", fontsize=18)\n",
    "plt.ylabel(\"$y$\", rotation=0, fontsize=18)\n",
    "plt.axis([0, 2, 0, 15])\n",
    "plt.show()"
   ]
  },
  {
   "attachments": {},
   "cell_type": "markdown",
   "metadata": {},
   "source": [
    "Now Let's Compute $\\theta$ using *Normal Equation* We Will use `inv()` from `np.linalg` Function to compute Invers of the Matrix."
   ]
  },
  {
   "cell_type": "code",
   "execution_count": 3,
   "metadata": {},
   "outputs": [],
   "source": [
    "X_b = np.c_[np.ones((100, 1)), x] # add x0 = 1 to each instance\n",
    "theta_best = np.linalg.inv(X_b.T.dot(X_b)).dot(X_b.T).dot(y)"
   ]
  },
  {
   "cell_type": "code",
   "execution_count": 4,
   "metadata": {},
   "outputs": [
    {
     "data": {
      "text/plain": [
       "array([[4.52730935],\n",
       "       [2.96515993]])"
      ]
     },
     "execution_count": 4,
     "metadata": {},
     "output_type": "execute_result"
    }
   ],
   "source": [
    "theta_best"
   ]
  },
  {
   "attachments": {},
   "cell_type": "markdown",
   "metadata": {},
   "source": [
    "Till Now We Have Computed Our Best Theta Value so Let's Make Predictions."
   ]
  },
  {
   "cell_type": "code",
   "execution_count": 5,
   "metadata": {},
   "outputs": [
    {
     "data": {
      "text/plain": [
       "array([[ 4.52730935],\n",
       "       [10.45762922]])"
      ]
     },
     "execution_count": 5,
     "metadata": {},
     "output_type": "execute_result"
    }
   ],
   "source": [
    "X_new = np.array([[0], [2]])\n",
    "X_new_b = np.c_[np.ones((2, 1)), X_new] # add x0 = 1 to each instance\n",
    "y_predict = X_new_b.dot(theta_best)\n",
    "y_predict"
   ]
  },
  {
   "attachments": {},
   "cell_type": "markdown",
   "metadata": {},
   "source": [
    "Let's Plot Our Models Predictions."
   ]
  },
  {
   "cell_type": "code",
   "execution_count": 6,
   "metadata": {},
   "outputs": [
    {
     "data": {
      "image/png": "[encoded data removed]",
      "text/plain": [
       "<Figure size 640x480 with 1 Axes>"
      ]
     },
     "metadata": {},
     "output_type": "display_data"
    }
   ],
   "source": [
    "plt.plot(X_new, y_predict, \"r-\", label=\"Predictions\")\n",
    "plt.plot(x, y, \"b.\")\n",
    "plt.axis([0, 2, 0, 15])\n",
    "plt.legend()\n",
    "plt.show()"
   ]
  },
  {
   "attachments": {},
   "cell_type": "markdown",
   "metadata": {},
   "source": [
    "Doing The Same With `scikit-learn` is very Simple:"
   ]
  },
  {
   "cell_type": "code",
   "execution_count": 7,
   "metadata": {},
   "outputs": [
    {
     "name": "stdout",
     "output_type": "stream",
     "text": [
      "[4.52730935] [[2.96515993]]\n"
     ]
    }
   ],
   "source": [
    "from sklearn.linear_model import LinearRegression\n",
    "lin_reg = LinearRegression()\n",
    "lin_reg.fit(x, y)\n",
    "print(lin_reg.intercept_, lin_reg.coef_)"
   ]
  },
  {
   "cell_type": "code",
   "execution_count": 8,
   "metadata": {},
   "outputs": [
    {
     "data": {
      "text/plain": [
       "array([[ 4.52730935],\n",
       "       [10.45762922]])"
      ]
     },
     "execution_count": 8,
     "metadata": {},
     "output_type": "execute_result"
    }
   ],
   "source": [
    "lin_reg.predict(X_new)"
   ]
  },
  {
   "cell_type": "code",
   "execution_count": 9,
   "metadata": {},
   "outputs": [
    {
     "data": {
      "text/plain": [
       "array([[4.52730935],\n",
       "       [2.96515993]])"
      ]
     },
     "execution_count": 9,
     "metadata": {},
     "output_type": "execute_result"
    }
   ],
   "source": [
    "theta_best_svd, residuals, rank, s = np.linalg.lstsq(X_b, y, rcond=1e-6)\n",
    "theta_best_svd"
   ]
  },
  {
   "attachments": {},
   "cell_type": "markdown",
   "metadata": {},
   "source": [
    "If Don't Know What Does `1e-6` means? So It means That 1 and 6 Zeros = `1000000`"
   ]
  },
  {
   "cell_type": "code",
   "execution_count": 10,
   "metadata": {},
   "outputs": [
    {
     "data": {
      "text/plain": [
       "array([[4.52730935],\n",
       "       [2.96515993]])"
      ]
     },
     "execution_count": 10,
     "metadata": {},
     "output_type": "execute_result"
    }
   ],
   "source": [
    "np.linalg.pinv(X_b).dot(y)"
   ]
  },
  {
   "attachments": {},
   "cell_type": "markdown",
   "metadata": {},
   "source": [
    "# Computational Complexity\n",
    "There are Two Ways to Compute Inverse of a Matrix:\n",
    "## 1. Singular Value Decomposition (SVD)\n",
    "\n",
    "Singular Value Decomposition (SVD) is a matrix factorization technique that decomposes a matrix into three separate matrices. The purpose of this decomposition is to simplify the original matrix and identify patterns or relationships within the data.\n",
    "\n",
    "For a given matrix A with dimensions m x n, SVD breaks it down into three matrices:\n",
    "\n",
    "1. U: An m x m orthogonal matrix, which contains information about the relationships between the rows of the original matrix A.\n",
    "2. Σ: An m x n diagonal matrix, which contains information about the importance of each dimension of the original matrix A. The diagonal values of Σ are called singular values.\n",
    "3. V: An n x n orthogonal matrix, which contains information about the relationships between the columns of the original matrix A.\n",
    "\n",
    "Mathematically, the SVD can be written as:\n",
    "\n",
    "A = U Σ V^T\n",
    "\n",
    "where T stands for transpose.\n",
    "## 2. Normal Equation\n",
    "\n",
    "The Normal Equation is a mathematical method used to find the optimal parameters for linear regression problems. It works by finding the set of parameters that minimizes the sum of squared differences between the predicted and actual values of the dependent variable.\n",
    "\n",
    "In simple linear regression, where there is only one independent variable, the Normal Equation can be expressed as:\n",
    "\n",
    "θ = (X^T X)^{-1} X^T Y\n",
    "\n",
    "where θ is the vector of parameters (including the intercept term), X is the matrix of input features, Y is the vector of output values, and T denotes the transpose of a matrix."
   ]
  },
  {
   "attachments": {},
   "cell_type": "markdown",
   "metadata": {},
   "source": [
    "## Exit\n",
    "- Both **Normal Equation** and **SVD** appproach Get Very Slow When Number of Features Increase But After They Got Trained Once There Prediction Speed is Very Fast But this also means that Making Prediction on Twice Features Will take Twice as much time.\n",
    "- Now we Will Look at a Very Different way to Train Linear Regression Model, which is Better Suited for cases where Large Number of features or too many training Instances to fit in memory."
   ]
  },
  {
   "attachments": {},
   "cell_type": "markdown",
   "metadata": {},
   "source": [
    "# Gradient Descent\n",
    "- Basically Gradient Descent is a technique to minimize the cost function.\n",
    "- In Gradient Descent You Start By Filling **$\\theta$**  with Random Values and then It Starts `Decreasing Cost Function(Mainly MSE)` Gradually by taking one step at a time and at the end it ends on the Minimum Value of `Cost Function` Possible."
   ]
  },
  {
   "attachments": {},
   "cell_type": "markdown",
   "metadata": {},
   "source": [
    "### Hyperparameter - `Learning Rate`\n",
    "`Learning Rate` is Basically Size of The Learning Step if it is too Low then it will take so Much Time to Compute even Smaller Datasets but if `Learning Rate` is too High then It Will take very Less Time to Compute but it will be very `Error Prone` so `Learning Rate` should be in a Balance Between High and Low."
   ]
  },
  {
   "attachments": {},
   "cell_type": "markdown",
   "metadata": {},
   "source": [
    "## Batch Gradient Descent\n",
    "- It is a type of Gradient Descent Where We Use Whole Dataset to take that Baby Step about Which we Talked Earlier.\n",
    "- **Advantage** - Chances of Error are Nearn to Zere or Very Less.\n",
    "- **Dissadvantages** \n",
    "  - Takes So Much Time to Compute Even Smaller Datasets.\n",
    "  - Less Probability of Reaching `Global Minimum` instead of `Local Minimum`."
   ]
  },
  {
   "cell_type": "code",
   "execution_count": 11,
   "metadata": {},
   "outputs": [],
   "source": [
    "eta = 0.1  # Learning Rate\n",
    "n_iterations = 1000\n",
    "m = 100\n",
    "\n",
    "theta = np.random.randn(2, 1) # random initialization\n",
    "\n",
    "for iteration in range(n_iterations):\n",
    "    gradients = 2/m * X_b.T.dot(X_b.dot(theta) - y)\n",
    "    theta = theta - eta * gradients"
   ]
  },
  {
   "cell_type": "code",
   "execution_count": 12,
   "metadata": {},
   "outputs": [
    {
     "data": {
      "text/plain": [
       "array([[4.52730935],\n",
       "       [2.96515993]])"
      ]
     },
     "execution_count": 12,
     "metadata": {},
     "output_type": "execute_result"
    }
   ],
   "source": [
    "theta"
   ]
  },
  {
   "attachments": {},
   "cell_type": "markdown",
   "metadata": {},
   "source": [
    "Now You can See that it is Exactly Same as `The Normal Equation` so This Means that Batch Gradient Descent Worked Perfectly."
   ]
  },
  {
   "attachments": {},
   "cell_type": "markdown",
   "metadata": {},
   "source": [
    "#### Let's Understand Seriousness of The Learning Rate with This Example :-\n",
    "- If Learning Rate too Low then it will take so much time to complete the work.\n",
    "  - **Learning Rate** - `0.02` then this will take almost twice as more time as `0.1`.\n",
    "- If Learning Rate is Normal then it will be Perfectly Fine.\n",
    "  - **Learning Rate** - `0.1` this is a Perfect Example of a Balanced Learning Rate.\n",
    "- If Learning Rate is too High then it Will Jump the Actual Point.\n",
    "  - **Learning Rate** - `0.5` then it Will Jumps the Actual Point and with Every Iteration It will Go far from Minimum Cost Function."
   ]
  },
  {
   "attachments": {},
   "cell_type": "markdown",
   "metadata": {},
   "source": [
    "## Stochastic Gradient Descent\n",
    "- `Stochastic Gradient Descent` is a Type of of Gradient Descent where We take a *Random instance* and then **Compute `Gradient` of the Whole Step through that Random Instance**.\n",
    "\n",
    "### Advantages\n",
    "- `Stochastic Gradient Descent` is very fast Because it dosen't Takes Whole Dataset to Compute each `Gradient`.\n",
    "- It takes Very Less Computing Power to Computer even Larger Datasets.\n",
    "- There is a High Possiblitiy of Reaching Global Minimum if Compared to Batch Gradient Descent.\n",
    "\n",
    "### Dissadvantages\n",
    "- `Stochastic Gradient Descent` is Error Prone.\n",
    "- Normally it Jumps and Forth Between the Minimum Gradient So Many Times."
   ]
  },
  {
   "cell_type": "code",
   "execution_count": 13,
   "metadata": {},
   "outputs": [],
   "source": [
    "n_epochs = 50\n",
    "t0, t1 = 5, 50 # learning schedule hyperparameters\n",
    "\n",
    "def learning_schedule(t):\n",
    "    return t0 / (t + t1)\n",
    "\n",
    "theta = np.random.randn(2, 1) # Initializing Random Values\n",
    "\n",
    "for epoch in range(n_epochs):\n",
    "    for i in range(m):\n",
    "        random_index = np.random.randint(m)\n",
    "        xi = X_b[random_index:random_index+1]\n",
    "        yi = y[random_index:random_index+1]\n",
    "        gradients = 2 * xi.T.dot(xi.dot(theta) - yi)\n",
    "        eta = learning_schedule(epoch * m + i)\n",
    "        theta = theta - eta * gradients"
   ]
  },
  {
   "cell_type": "code",
   "execution_count": 14,
   "metadata": {},
   "outputs": [
    {
     "data": {
      "text/plain": [
       "array([[4.53682118],\n",
       "       [2.9671763 ]])"
      ]
     },
     "execution_count": 14,
     "metadata": {},
     "output_type": "execute_result"
    }
   ],
   "source": [
    "theta"
   ]
  },
  {
   "attachments": {},
   "cell_type": "markdown",
   "metadata": {},
   "source": [
    "### `Stochastic Gradient Descent` in Linear Regression - **`Scikit-Learn`**"
   ]
  },
  {
   "cell_type": "code",
   "execution_count": 15,
   "metadata": {},
   "outputs": [
    {
     "data": {
      "text/html": [
       "<style>#sk-container-id-1 {color: black;background-color: white;}#sk-container-id-1 pre{padding: 0;}#sk-container-id-1 div.sk-toggleable {background-color: white;}#sk-container-id-1 label.sk-toggleable__label {cursor: pointer;display: block;width: 100%;margin-bottom: 0;padding: 0.3em;box-sizing: border-box;text-align: center;}#sk-container-id-1 label.sk-toggleable__label-arrow:before {content: \"▸\";float: left;margin-right: 0.25em;color: #696969;}#sk-container-id-1 label.sk-toggleable__label-arrow:hover:before {color: black;}#sk-container-id-1 div.sk-estimator:hover label.sk-toggleable__label-arrow:before {color: black;}#sk-container-id-1 div.sk-toggleable__content {max-height: 0;max-width: 0;overflow: hidden;text-align: left;background-color: #f0f8ff;}#sk-container-id-1 div.sk-toggleable__content pre {margin: 0.2em;color: black;border-radius: 0.25em;background-color: #f0f8ff;}#sk-container-id-1 input.sk-toggleable__control:checked~div.sk-toggleable__content {max-height: 200px;max-width: 100%;overflow: auto;}#sk-container-id-1 input.sk-toggleable__control:checked~label.sk-toggleable__label-arrow:before {content: \"▾\";}#sk-container-id-1 div.sk-estimator input.sk-toggleable__control:checked~label.sk-toggleable__label {background-color: #d4ebff;}#sk-container-id-1 div.sk-label input.sk-toggleable__control:checked~label.sk-toggleable__label {background-color: #d4ebff;}#sk-container-id-1 input.sk-hidden--visually {border: 0;clip: rect(1px 1px 1px 1px);clip: rect(1px, 1px, 1px, 1px);height: 1px;margin: -1px;overflow: hidden;padding: 0;position: absolute;width: 1px;}#sk-container-id-1 div.sk-estimator {font-family: monospace;background-color: #f0f8ff;border: 1px dotted black;border-radius: 0.25em;box-sizing: border-box;margin-bottom: 0.5em;}#sk-container-id-1 div.sk-estimator:hover {background-color: #d4ebff;}#sk-container-id-1 div.sk-parallel-item::after {content: \"\";width: 100%;border-bottom: 1px solid gray;flex-grow: 1;}#sk-container-id-1 div.sk-label:hover label.sk-toggleable__label {background-color: #d4ebff;}#sk-container-id-1 div.sk-serial::before {content: \"\";position: absolute;border-left: 1px solid gray;box-sizing: border-box;top: 0;bottom: 0;left: 50%;z-index: 0;}#sk-container-id-1 div.sk-serial {display: flex;flex-direction: column;align-items: center;background-color: white;padding-right: 0.2em;padding-left: 0.2em;position: relative;}#sk-container-id-1 div.sk-item {position: relative;z-index: 1;}#sk-container-id-1 div.sk-parallel {display: flex;align-items: stretch;justify-content: center;background-color: white;position: relative;}#sk-container-id-1 div.sk-item::before, #sk-container-id-1 div.sk-parallel-item::before {content: \"\";position: absolute;border-left: 1px solid gray;box-sizing: border-box;top: 0;bottom: 0;left: 50%;z-index: -1;}#sk-container-id-1 div.sk-parallel-item {display: flex;flex-direction: column;z-index: 1;position: relative;background-color: white;}#sk-container-id-1 div.sk-parallel-item:first-child::after {align-self: flex-end;width: 50%;}#sk-container-id-1 div.sk-parallel-item:last-child::after {align-self: flex-start;width: 50%;}#sk-container-id-1 div.sk-parallel-item:only-child::after {width: 0;}#sk-container-id-1 div.sk-dashed-wrapped {border: 1px dashed gray;margin: 0 0.4em 0.5em 0.4em;box-sizing: border-box;padding-bottom: 0.4em;background-color: white;}#sk-container-id-1 div.sk-label label {font-family: monospace;font-weight: bold;display: inline-block;line-height: 1.2em;}#sk-container-id-1 div.sk-label-container {text-align: center;}#sk-container-id-1 div.sk-container {/* jupyter's `normalize.less` sets `[hidden] { display: none; }` but bootstrap.min.css set `[hidden] { display: none !important; }` so we also need the `!important` here to be able to override the default hidden behavior on the sphinx rendered scikit-learn.org. See: https://github.com/scikit-learn/scikit-learn/issues/21755 */display: inline-block !important;position: relative;}#sk-container-id-1 div.sk-text-repr-fallback {display: none;}</style><div id=\"sk-container-id-1\" class=\"sk-top-container\"><div class=\"sk-text-repr-fallback\"><pre>SGDRegressor(eta0=0.1, penalty=None)</pre><b>In a Jupyter environment, please rerun this cell to show the HTML representation or trust the notebook. <br />On GitHub, the HTML representation is unable to render, please try loading this page with nbviewer.org.</b></div><div class=\"sk-container\" hidden><div class=\"sk-item\"><div class=\"sk-estimator sk-toggleable\"><input class=\"sk-toggleable__control sk-hidden--visually\" id=\"sk-estimator-id-1\" type=\"checkbox\" checked><label for=\"sk-estimator-id-1\" class=\"sk-toggleable__label sk-toggleable__label-arrow\">SGDRegressor</label><div class=\"sk-toggleable__content\"><pre>SGDRegressor(eta0=0.1, penalty=None)</pre></div></div></div></div></div>"
      ],
      "text/plain": [
       "SGDRegressor(eta0=0.1, penalty=None)"
      ]
     },
     "execution_count": 15,
     "metadata": {},
     "output_type": "execute_result"
    }
   ],
   "source": [
    "from sklearn.linear_model import SGDRegressor\n",
    "sgd_reg = SGDRegressor(max_iter=1000, tol=1e-3, penalty=None, eta0=0.1)\n",
    "sgd_reg.fit(x, y.ravel())"
   ]
  },
  {
   "cell_type": "code",
   "execution_count": 16,
   "metadata": {},
   "outputs": [
    {
     "data": {
      "text/plain": [
       "(array([4.51372979]), array([2.97250856]))"
      ]
     },
     "execution_count": 16,
     "metadata": {},
     "output_type": "execute_result"
    }
   ],
   "source": [
    "sgd_reg.intercept_, sgd_reg.coef_"
   ]
  },
  {
   "attachments": {},
   "cell_type": "markdown",
   "metadata": {},
   "source": [
    "## Mini-Batch Gradient Descent\n",
    "You have learned about `Batch Gradient Descent` and `Stochastic Gradient Descent` up to this point in time. While `BatchGD` uses the entire dataset to compute a single learning step, `StochasticGD` uses one random instance to compute the entire learning step. Both have advantages and disadvantages. **Let's move on to `Mini-Batch Gradient Descent`, which is sort of present between the other two.**\n",
    "- **Defination** - `Mini-batch gradient descent` is similar to batch gradient descent but uses mini-batches(smaller subsets) of the entire dataset at each iteration. The same idea as batch gradient descent applies here too: updating parameters towards reducing the loss on the mini-batch.\n",
    "\n",
    "### Advantages\n",
    "- Reduces memory usage by processing smaller portions of data at once.\n",
    "- Allows for faster adaptation to changing conditions through incremental adjustments based on small sets of data.\n",
    "- Increases stability and reliability by smoothing out fluctuations that may arise from working with limited amounts of information at any given time.\n",
    "\n",
    "### Disadvantages\n",
    "- **Noise sensitivity** - Mini-batch gradient descent is prone to being affected by noise in the selected mini-batches, potentially leading to suboptimal results.\n",
    "- **Variance of gradients** - Randomness in the selection of mini-batches causes variations in the gradients calculated, resulting in increased instability and uncertainty.\n",
    "- **Higher computaional cost** - Evaluating gradients for each mini-batch incurs extra computational expense compared to traditional batch gradient descent, particularly with larger mini-batch sizes."
   ]
  },
  {
   "attachments": {},
   "cell_type": "markdown",
   "metadata": {},
   "source": [
    "# Comparison of Algorithims for Linear Regression\n",
    "\n",
    "|    Algorithim   | Large m | Out-of-Core-Support | Large n | Hyperparameters | Scaling Required |   Scikit-Learn   |\n",
    "|-----------------|---------|---------------------|---------|-----------------|------------------|------------------|\n",
    "| Normal Equation |   Fast  |         No          |   Slow  |        0        |        No        |        N/A       |\n",
    "|       SVD       |   Fast  |         No          |   Slow  |        0        |        No        | LinearRegression |\n",
    "|     BatchGD     |   Slow  |         No          |   Fast  |        2        |        Yes       |   SGDRegressor   |\n",
    "|  Stochastic GD  |   Fast  |         Yes         |   Fast  |       >=2       |        Yes       |   SGDRegressor   |\n",
    "|  Mini-Batch GD  |   Fast  |         Yes         |   Fast  |       >=2       |        Yes       |   SGDRegressor   |"
   ]
  },
  {
   "attachments": {},
   "cell_type": "markdown",
   "metadata": {},
   "source": [
    "# Polynomial Regression\n",
    "- What if Your Data is more Comples than a Straght Line ? Surprisingly, We can use Linear Model to Fit Nonlinear Data By adding Powers to each feature as a new feature and this technique known as Polynomial Regression."
   ]
  },
  {
   "cell_type": "code",
   "execution_count": 17,
   "metadata": {},
   "outputs": [],
   "source": [
    "m = 100\n",
    "X = 6 * np.random.rand(m, 1) - 3\n",
    "y = 0.5 * X**2 + X + 2 + np.random.randn(m, 1)"
   ]
  },
  {
   "cell_type": "code",
   "execution_count": 18,
   "metadata": {},
   "outputs": [
    {
     "data": {
      "image/png": "[encoded data removed]",
      "text/plain": [
       "<Figure size 640x480 with 1 Axes>"
      ]
     },
     "metadata": {},
     "output_type": "display_data"
    }
   ],
   "source": [
    "plt.plot(X, y, \"b.\")\n",
    "plt.xlabel(\"$x_1$\", fontsize=18)\n",
    "plt.ylabel(\"$y$\", rotation=0, fontsize=18)\n",
    "plt.axis([-3, 3, 0, 10])\n",
    "plt.show()"
   ]
  },
  {
   "attachments": {},
   "cell_type": "markdown",
   "metadata": {},
   "source": [
    "After Plotting This Data its Clearn That a Straight Line Will never fit this Data Properly So Here We are Going to use **Scikit-Learn**,s `PolynomialFeatures` class to transform our training data."
   ]
  },
  {
   "cell_type": "code",
   "execution_count": 19,
   "metadata": {},
   "outputs": [],
   "source": [
    "from sklearn.preprocessing import PolynomialFeatures\n",
    "\n",
    "poly_features = PolynomialFeatures(degree=2, include_bias=True)\n",
    "X_poly = poly_features.fit_transform(X)"
   ]
  },
  {
   "cell_type": "code",
   "execution_count": 20,
   "metadata": {},
   "outputs": [
    {
     "data": {
      "text/plain": [
       "array([-1.816386])"
      ]
     },
     "execution_count": 20,
     "metadata": {},
     "output_type": "execute_result"
    }
   ],
   "source": [
    "X[0]"
   ]
  },
  {
   "cell_type": "code",
   "execution_count": 21,
   "metadata": {},
   "outputs": [
    {
     "data": {
      "text/plain": [
       "array([ 1.       , -1.816386 ,  3.2992581])"
      ]
     },
     "execution_count": 21,
     "metadata": {},
     "output_type": "execute_result"
    }
   ],
   "source": [
    "X_poly[0]"
   ]
  },
  {
   "attachments": {},
   "cell_type": "markdown",
   "metadata": {},
   "source": [
    "`X_poly` now Contains the original feature of `X` plus the square of this feature. Now you can fit a `LinearRegression` model to this extended training data."
   ]
  },
  {
   "cell_type": "code",
   "execution_count": 22,
   "metadata": {},
   "outputs": [
    {
     "data": {
      "text/plain": [
       "(array([2.28452251]), array([[0.        , 1.07703511, 0.45718169]]))"
      ]
     },
     "execution_count": 22,
     "metadata": {},
     "output_type": "execute_result"
    }
   ],
   "source": [
    "lin_reg = LinearRegression()\n",
    "lin_reg.fit(X_poly, y)\n",
    "lin_reg.intercept_, lin_reg.coef_"
   ]
  },
  {
   "cell_type": "code",
   "execution_count": 23,
   "metadata": {},
   "outputs": [
    {
     "data": {
      "image/png": "[encoded data removed]",
      "text/plain": [
       "<Figure size 640x480 with 1 Axes>"
      ]
     },
     "metadata": {},
     "output_type": "display_data"
    }
   ],
   "source": [
    "X_new=np.linspace(-3, 3, 100).reshape(100, 1)\n",
    "X_new_poly = poly_features.transform(X_new)\n",
    "y_new = lin_reg.predict(X_new_poly)\n",
    "plt.plot(X, y, \"b.\")\n",
    "plt.plot(X_new, y_new, \"r-\", linewidth=2, label=\"Predictions\")\n",
    "plt.xlabel(\"$x_1$\", fontsize=18)\n",
    "plt.ylabel(\"$y$\", rotation=0, fontsize=18)\n",
    "plt.legend(loc=\"upper left\", fontsize=14)\n",
    "plt.axis([-3, 3, 0, 10])\n",
    "plt.show()"
   ]
  },
  {
   "attachments": {},
   "cell_type": "markdown",
   "metadata": {},
   "source": [
    "# Learning Curves\n",
    "The Graph Which is Plotted Below Shows that How Well `Linear Regression(1)`, `Quadratic Model(2)` and `300-degree Plynomial` perform on a DataSet."
   ]
  },
  {
   "cell_type": "code",
   "execution_count": 24,
   "metadata": {},
   "outputs": [
    {
     "data": {
      "image/png": "[encoded data removed]",
      "text/plain": [
       "<Figure size 640x480 with 1 Axes>"
      ]
     },
     "metadata": {},
     "output_type": "display_data"
    }
   ],
   "source": [
    "from sklearn.preprocessing import StandardScaler\n",
    "from sklearn.pipeline import Pipeline\n",
    "\n",
    "for style, width, degree in ((\"g-\", 1, 300), (\"b--\", 2, 2), (\"r-+\", 2, 1)):\n",
    "    polybig_features = PolynomialFeatures(degree=degree, include_bias=False)\n",
    "    std_scaler = StandardScaler()\n",
    "    lin_reg = LinearRegression()\n",
    "    polynomial_regression = Pipeline([\n",
    "            (\"poly_features\", polybig_features),\n",
    "            (\"std_scaler\", std_scaler),\n",
    "            (\"lin_reg\", lin_reg),\n",
    "        ])\n",
    "    polynomial_regression.fit(X, y)\n",
    "    y_newbig = polynomial_regression.predict(X_new)\n",
    "    plt.plot(X_new, y_newbig, style, label=str(degree), linewidth=width)\n",
    "\n",
    "plt.plot(X, y, \"b.\", linewidth=3)\n",
    "plt.legend(loc=\"upper left\")\n",
    "plt.xlabel(\"$x_1$\", fontsize=18)\n",
    "plt.ylabel(\"$y$\", rotation=0, fontsize=18)\n",
    "plt.axis([-3, 3, 0, 10])\n",
    "plt.show()"
   ]
  },
  {
   "attachments": {},
   "cell_type": "markdown",
   "metadata": {},
   "source": [
    "After all of This You can Conclude that :-\n",
    "- `Linear Regression` Underfits the Data.\n",
    "- `300-degree Polynomial` Overfits the Data.\n",
    "- `Quadratic Model` Generalizes Mostly Well Because this Dataset Was **Generated** With `Quadratic Model`."
   ]
  }
 ],
 "metadata": {
  "kernelspec": {
   "display_name": "venv",
   "language": "python",
   "name": "python3"
  },
  "language_info": {
   "codemirror_mode": {
    "name": "ipython",
    "version": 3
   },
   "file_extension": ".py",
   "mimetype": "text/x-python",
   "name": "python",
   "nbconvert_exporter": "python",
   "pygments_lexer": "ipython3",
   "version": "3.11.3"
  },
  "orig_nbformat": 4,
  "vscode": {
   "interpreter": {
    "hash": "8cab9bf14a15188bc462cdd05fc406dba01291ca9ffbd3249fbcef9e3b942c84"
   }
  }
 },
 "nbformat": 4,
 "nbformat_minor": 2
}
