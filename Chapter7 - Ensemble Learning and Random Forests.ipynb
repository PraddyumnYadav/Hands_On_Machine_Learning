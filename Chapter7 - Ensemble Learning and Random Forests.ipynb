{
 "cells": [
  {
   "cell_type": "markdown",
   "id": "fbb26d42-dfd5-4272-9a81-a21f6679649b",
   "metadata": {},
   "source": [
    "# **Chapter 7 - Ensemble Learning and Random Forests**\n",
    "- We all know that If we have a Question and we ask it's Answer from General Public and Accumulate Their Results most of the Times It would be better answer than and Experts Answer. This is known as **Wisdom of Crowd**.\n",
    "- **Machine Learning** Also Functions and Behaves Similar to This if You Train A *model* that is *Expert* in a Certain Task and Someone Else Creates *1000* Relatively **Dumb Models** and then Culminate there Skills into one than There is a High Possibility His Model Overtaking Your Model in Every Aspect in the Language of Machine Learning it is known as **Ensemble Learning**."
   ]
  },
  {
   "cell_type": "markdown",
   "id": "7cdf301e-4bb9-40b7-b6ae-ca1aa7af7805",
   "metadata": {},
   "source": [
    "## What We are Going to Learn\n",
    "- Voting Classifier\n",
    "- Bagging and Pasting\n",
    "    - Bagging and Pasting in Scikit-Learn\n",
    "    - Out-of-Bag Evaluation\n",
    "- Random Patches and Random Subspaces\n",
    "- Random Forests\n",
    "    - Extra-Trees\n",
    "    - Feature Importance\n",
    "- Boosting\n",
    "    - AdaBoost\n",
    "    - Gradient Boosting\n",
    "- Stacking Ensemble"
   ]
  },
  {
   "cell_type": "markdown",
   "id": "c9494c08-a77c-4e5c-aea1-f9f2adc6d380",
   "metadata": {},
   "source": [
    "# Voting Classifiers\n",
    "In this E"
   ]
  },
  {
   "cell_type": "code",
   "execution_count": null,
   "id": "a4389001-0ff3-47fd-bfa2-87c4de205a72",
   "metadata": {},
   "outputs": [],
   "source": []
  }
 ],
 "metadata": {
  "kernelspec": {
   "display_name": "Python 3 (ipykernel)",
   "language": "python",
   "name": "python3"
  },
  "language_info": {
   "codemirror_mode": {
    "name": "ipython",
    "version": 3
   },
   "file_extension": ".py",
   "mimetype": "text/x-python",
   "name": "python",
   "nbconvert_exporter": "python",
   "pygments_lexer": "ipython3",
   "version": "3.12.1"
  }
 },
 "nbformat": 4,
 "nbformat_minor": 5
}
