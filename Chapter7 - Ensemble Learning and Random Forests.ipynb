{
 "cells": [
  {
   "cell_type": "markdown",
   "id": "fbb26d42-dfd5-4272-9a81-a21f6679649b",
   "metadata": {},
   "source": [
    "# **Chapter 7 - Ensemble Learning and Random Forests**"
   ]
  },
  {
   "cell_type": "code",
   "execution_count": null,
   "id": "ec260617-2d7d-4baa-97df-bafd240c036d",
   "metadata": {},
   "outputs": [],
   "source": []
  }
 ],
 "metadata": {
  "kernelspec": {
   "display_name": "Python 3 (ipykernel)",
   "language": "python",
   "name": "python3"
  },
  "language_info": {
   "codemirror_mode": {
    "name": "ipython",
    "version": 3
   },
   "file_extension": ".py",
   "mimetype": "text/x-python",
   "name": "python",
   "nbconvert_exporter": "python",
   "pygments_lexer": "ipython3",
   "version": "3.12.1"
  }
 },
 "nbformat": 4,
 "nbformat_minor": 5
}
